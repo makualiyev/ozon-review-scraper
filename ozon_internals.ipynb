{
 "cells": [
  {
   "cell_type": "markdown",
   "id": "08b1eef2",
   "metadata": {},
   "source": [
    "# imports"
   ]
  },
  {
   "cell_type": "code",
   "execution_count": 5,
   "id": "9ea67768",
   "metadata": {},
   "outputs": [],
   "source": [
    "import os\n",
    "import json\n",
    "\n",
    "import pandas as pd\n",
    "import requests\n",
    "from bs4 import BeautifulSoup"
   ]
  },
  {
   "cell_type": "code",
   "execution_count": null,
   "id": "73ace541",
   "metadata": {},
   "outputs": [],
   "source": []
  },
  {
   "cell_type": "code",
   "execution_count": null,
   "id": "a4ab9612",
   "metadata": {},
   "outputs": [],
   "source": []
  },
  {
   "cell_type": "code",
   "execution_count": 10,
   "id": "c32cfb0a",
   "metadata": {},
   "outputs": [],
   "source": [
    "def get_main_file() -> pd.DataFrame:\n",
    "    # os.chdir('C:\\\\Users\\\\Tural\\\\OneDrive\\\\Masaüstü')\n",
    "    os.chdir('D:\\\\development\\\\projects\\\\ozon-review-scraper\\\\sample')\n",
    "    oz_df = pd.read_excel('comments main version.xlsx', sheet_name='Ozon')\n",
    "    oz_df = oz_df.set_axis(oz_df.iloc[0], axis=1).iloc[2:,][['Link', 'SKU']]\n",
    "    oz_df = oz_df[~(oz_df['Link'].isna())]\n",
    "    oz_df = oz_df[~(oz_df['SKU'].duplicated())].reset_index(drop=True)\n",
    "    return oz_df"
   ]
  },
  {
   "attachments": {},
   "cell_type": "markdown",
   "id": "afe95fa1",
   "metadata": {},
   "source": [
    "# extract base"
   ]
  },
  {
   "cell_type": "code",
   "execution_count": 13,
   "id": "4a28ddd9",
   "metadata": {},
   "outputs": [],
   "source": [
    "def xrequest(link_: str, sesh: requests.Session) -> None:\n",
    "    headers = {\n",
    "        'Content-Type': 'application/json',\n",
    "    }\n",
    "    json_data = {\n",
    "        'cmd': 'request.get',\n",
    "        'url': f\"{link_}\",\n",
    "        'maxTimeout': 60000,\n",
    "    }\n",
    "    response = sesh.post('http://localhost:8191/v1', headers=headers, json=json_data)\n",
    "    return response\n",
    "    "
   ]
  },
  {
   "cell_type": "code",
   "execution_count": 14,
   "id": "ae8b1a42",
   "metadata": {},
   "outputs": [],
   "source": [
    "url_ = \"https://www.ozon.ru/api/entrypoint-api.bx/page/json/v2?url=%2Fproduct%2Fvarochnaya-panel-elektricheskaya-delvento-v30d12s001-30-sm-konforki-hi-light-9-urovney-nagreva-723275899%2F%3Flayout_container%3DpdpPage2column%26layout_page_index%3D2%26sh%3DuDjvkyg2qw\"\n",
    "sesh = requests.Session()\n",
    "r = xrequest(link_=url_, sesh=sesh)"
   ]
  },
  {
   "cell_type": "code",
   "execution_count": null,
   "id": "f94beb2f",
   "metadata": {},
   "outputs": [],
   "source": []
  },
  {
   "cell_type": "code",
   "execution_count": 16,
   "id": "d93f9982",
   "metadata": {},
   "outputs": [
    {
     "name": "stdout",
     "output_type": "stream",
     "text": [
      "webAddToCompare-939979-pdpPage2column-2\n"
     ]
    },
    {
     "data": {
      "text/plain": [
       "{'sku': 723275899,\n",
       " 'link': '',\n",
       " 'isInCompare': False,\n",
       " 'cellTrackingInfo': {'products': {'723275899': '3acc02ed58206d4036a129c6eaa758f4747b7de4'},\n",
       "  'uis': {'actionAddToCompare': 'a29b0919705734b6c67760695ee4e5a62cdce43a',\n",
       "   'actionRemoveFromCompare': '3199f50a09628b2bc434ca53062026c5e5b1215b',\n",
       "   'click': '2824654e401414a4c138e07d47db6176afc46fc1',\n",
       "   'view': 'c810188488776519aa3c0d70a88724d855a1f4a6'}}}"
      ]
     },
     "execution_count": 16,
     "metadata": {},
     "output_type": "execute_result"
    }
   ],
   "source": [
    "raw = r.json()['solution']['response']\n",
    "raw_json = json.loads(BeautifulSoup(raw).find('body').text)\n",
    "\n",
    "# TODO: CHECK\n",
    "for k in raw_json['widgetStates'].keys():\n",
    "    if k.startswith('webAddToCompare'):\n",
    "        print(k)\n",
    "    # print(k.split('-')[0])\n",
    "\n",
    "\n",
    "json.loads(raw_json['widgetStates']['webAddToCompare-939979-pdpPage2column-2'])\n",
    "# with open('ok1.json', 'w') as f:\n",
    "#     f.write(json.dumps(raw_json))"
   ]
  },
  {
   "cell_type": "code",
   "execution_count": 28,
   "id": "a636698c",
   "metadata": {},
   "outputs": [],
   "source": [
    "ok = json.dumps(json.loads(BeautifulSoup(raw).find('body').text))\n",
    "with open('ok1.json', 'w') as f:\n",
    "    f.write(ok)"
   ]
  },
  {
   "cell_type": "code",
   "execution_count": null,
   "id": "ff5edaf5",
   "metadata": {},
   "outputs": [],
   "source": []
  },
  {
   "attachments": {},
   "cell_type": "markdown",
   "id": "4ddab793",
   "metadata": {},
   "source": [
    "## second request using HTML"
   ]
  },
  {
   "cell_type": "code",
   "execution_count": 17,
   "id": "d1f8e0b8",
   "metadata": {},
   "outputs": [],
   "source": [
    "url_2 = 'https://www.ozon.ru/product/723275899'\n",
    "r2 = xrequest(link_=url_2, sesh=sesh)"
   ]
  },
  {
   "cell_type": "code",
   "execution_count": 46,
   "id": "7f8f48b3",
   "metadata": {},
   "outputs": [],
   "source": [
    "soup = BeautifulSoup(r2.json()['solution']['response'])\n",
    "\n",
    "target_script_tag = [script_tag.text for script_tag in soup.find_all('script', {'nonce': ''}) if script_tag.text.startswith('window.__NUXT__')]\n",
    "assert len(target_script_tag) == 1\n",
    "target_script_tag = target_script_tag[0]\n",
    "\n",
    "\n",
    "with open('ok.json', 'wb') as f:\n",
    "    f.write(target_script_tag.split('window.__NUXT__.')[1][7:-3].encode('utf-8'))\n",
    "\n",
    "\n",
    "\n",
    "# with open('ok.html', 'w', encoding='utf-8') as f:\n",
    "#     f.write(r2.json()['solution']['response'])"
   ]
  },
  {
   "cell_type": "markdown",
   "id": "d59b372d",
   "metadata": {},
   "source": [
    "# extract"
   ]
  },
  {
   "cell_type": "code",
   "execution_count": 22,
   "id": "72c14a8a",
   "metadata": {},
   "outputs": [],
   "source": [
    "def get_content_from_link(link_: str, sku_: str, sesh: requests.Session) -> None:\n",
    "    headers = {\n",
    "        'Content-Type': 'application/json',\n",
    "    }\n",
    "\n",
    "    json_data = {\n",
    "        'cmd': 'request.get',\n",
    "        'url': f\"{link_}\",\n",
    "        'maxTimeout': 60000,\n",
    "    }\n",
    "\n",
    "    response = sesh.post('http://localhost:8191/v1', headers=headers, json=json_data)\n",
    "    if response.json()['status'] == 'ok':\n",
    "        with open(rf'C:\\Users\\Tural\\OneDrive\\Masaüstü\\ddd\\raw_html\\{sku_}.html', 'wb') as f:\n",
    "            f.write(response.json()['solution']['response'].encode('utf-8'))\n",
    "    else:\n",
    "        print(f\"Not successful for this sku -> {sku_} and link {link_}\")\n",
    "    "
   ]
  },
  {
   "cell_type": "code",
   "execution_count": 25,
   "id": "459150a3",
   "metadata": {},
   "outputs": [],
   "source": [
    "for entry_ in get_main_file().to_dict(orient='records'):\n",
    "    get_content_from_link(link_=entry_['Link'], sku_=entry_['SKU'], sesh=sesh)"
   ]
  },
  {
   "cell_type": "code",
   "execution_count": null,
   "id": "ef5542d8",
   "metadata": {},
   "outputs": [],
   "source": []
  },
  {
   "cell_type": "code",
   "execution_count": null,
   "id": "3077d4b9",
   "metadata": {},
   "outputs": [],
   "source": []
  },
  {
   "cell_type": "code",
   "execution_count": null,
   "id": "aae653ae",
   "metadata": {},
   "outputs": [],
   "source": []
  },
  {
   "cell_type": "code",
   "execution_count": 11,
   "id": "5c171d3b",
   "metadata": {},
   "outputs": [],
   "source": [
    "sesh = requests.Session()\n",
    "headers = {\n",
    "    'Content-Type': 'application/json',\n",
    "}\n",
    "\n",
    "json_data = {\n",
    "    'cmd': 'request.get',\n",
    "    'url': f\"{tl}\",\n",
    "    'maxTimeout': 60000,\n",
    "}\n",
    "\n",
    "response = sesh.post('http://localhost:8191/v1', headers=headers, json=json_data)"
   ]
  },
  {
   "cell_type": "code",
   "execution_count": 21,
   "id": "recovered-nickel",
   "metadata": {},
   "outputs": [],
   "source": [
    "# response.json()['status'] == 'ok'\n",
    "with open('ok.html', 'wb') as f:\n",
    "    f.write(response.json()['solution']['response'].encode('utf-8'))"
   ]
  },
  {
   "cell_type": "markdown",
   "id": "d6014e12",
   "metadata": {},
   "source": [
    "# old version"
   ]
  },
  {
   "cell_type": "code",
   "execution_count": 4,
   "id": "b04ef01a",
   "metadata": {},
   "outputs": [
    {
     "ename": "KeyboardInterrupt",
     "evalue": "",
     "output_type": "error",
     "traceback": [
      "\u001b[1;31m---------------------------------------------------------------------------\u001b[0m",
      "\u001b[1;31mKeyboardInterrupt\u001b[0m                         Traceback (most recent call last)",
      "Cell \u001b[1;32mIn[4], line 4\u001b[0m\n\u001b[0;32m      2\u001b[0m os\u001b[38;5;241m.\u001b[39mchdir(\u001b[38;5;124mr\u001b[39m\u001b[38;5;124m'\u001b[39m\u001b[38;5;124mC:\u001b[39m\u001b[38;5;124m\\\u001b[39m\u001b[38;5;124mUsers\u001b[39m\u001b[38;5;124m\\\u001b[39m\u001b[38;5;124mTural\u001b[39m\u001b[38;5;124m\\\u001b[39m\u001b[38;5;124mOneDrive\u001b[39m\u001b[38;5;124m\\\u001b[39m\u001b[38;5;124mMasaüstü\u001b[39m\u001b[38;5;124m\\\u001b[39m\u001b[38;5;124mddd\u001b[39m\u001b[38;5;124m'\u001b[39m)\n\u001b[0;32m      3\u001b[0m \u001b[38;5;28;01mfor\u001b[39;00m link_dict_entry \u001b[38;5;129;01min\u001b[39;00m link_dict:\n\u001b[1;32m----> 4\u001b[0m     \u001b[43mos\u001b[49m\u001b[38;5;241;43m.\u001b[39;49m\u001b[43msystem\u001b[49m\u001b[43m(\u001b[49m\u001b[38;5;124;43mf\u001b[39;49m\u001b[38;5;124;43m'\u001b[39;49m\u001b[38;5;124;43mpython test_ozon.py \u001b[39;49m\u001b[38;5;132;43;01m{\u001b[39;49;00m\u001b[43mlink_dict_entry\u001b[49m\u001b[43m[\u001b[49m\u001b[38;5;124;43m\"\u001b[39;49m\u001b[38;5;124;43mLink\u001b[39;49m\u001b[38;5;124;43m\"\u001b[39;49m\u001b[43m]\u001b[49m\u001b[38;5;132;43;01m}\u001b[39;49;00m\u001b[38;5;124;43m \u001b[39;49m\u001b[38;5;132;43;01m{\u001b[39;49;00m\u001b[43mlink_dict_entry\u001b[49m\u001b[43m[\u001b[49m\u001b[38;5;124;43m\"\u001b[39;49m\u001b[38;5;124;43mSKU\u001b[39;49m\u001b[38;5;124;43m\"\u001b[39;49m\u001b[43m]\u001b[49m\u001b[38;5;132;43;01m}\u001b[39;49;00m\u001b[38;5;124;43m'\u001b[39;49m\u001b[43m)\u001b[49m\n",
      "\u001b[1;31mKeyboardInterrupt\u001b[0m: "
     ]
    }
   ],
   "source": [
    "link_dict = get_main_file().to_dict(orient='records')\n",
    "os.chdir(r'C:\\Users\\Tural\\OneDrive\\Masaüstü\\ddd')\n",
    "for link_dict_entry in link_dict:\n",
    "    os.system(f'python test_ozon.py {link_dict_entry[\"Link\"]} {link_dict_entry[\"SKU\"]}')\n"
   ]
  },
  {
   "cell_type": "code",
   "execution_count": 9,
   "id": "60bc6dfa",
   "metadata": {},
   "outputs": [],
   "source": [
    "from bs4 import BeautifulSoup"
   ]
  },
  {
   "cell_type": "code",
   "execution_count": 40,
   "id": "6441dae9",
   "metadata": {},
   "outputs": [],
   "source": [
    "os.chdir(r'C:\\Users\\Tural\\OneDrive\\Masaüstü\\ddd\\raw_html')\n",
    "ok = os.listdir()[31]"
   ]
  },
  {
   "cell_type": "code",
   "execution_count": 41,
   "id": "31750649",
   "metadata": {},
   "outputs": [
    {
     "data": {
      "text/plain": [
       "'V30E02W001.html'"
      ]
     },
     "execution_count": 41,
     "metadata": {},
     "output_type": "execute_result"
    }
   ],
   "source": [
    "ok"
   ]
  },
  {
   "cell_type": "code",
   "execution_count": 42,
   "id": "4a08c90b",
   "metadata": {},
   "outputs": [],
   "source": [
    "with open(ok, 'rb') as f:\n",
    "    html_ = f.read()\n",
    "    \n",
    "soup = BeautifulSoup(html_)"
   ]
  },
  {
   "cell_type": "code",
   "execution_count": null,
   "id": "a06596be",
   "metadata": {},
   "outputs": [],
   "source": []
  },
  {
   "cell_type": "code",
   "execution_count": 44,
   "id": "258a62dc",
   "metadata": {},
   "outputs": [],
   "source": [
    "soup.select_one(SELECTORS['stars'])"
   ]
  },
  {
   "cell_type": "code",
   "execution_count": 43,
   "id": "7adc7cf7",
   "metadata": {},
   "outputs": [
    {
     "ename": "AttributeError",
     "evalue": "'NoneType' object has no attribute 'attrs'",
     "output_type": "error",
     "traceback": [
      "\u001b[1;31m---------------------------------------------------------------------------\u001b[0m",
      "\u001b[1;31mAttributeError\u001b[0m                            Traceback (most recent call last)",
      "Cell \u001b[1;32mIn[43], line 13\u001b[0m\n\u001b[0;32m      1\u001b[0m sku_data \u001b[38;5;241m=\u001b[39m {\n\u001b[0;32m      2\u001b[0m     \u001b[38;5;124m'\u001b[39m\u001b[38;5;124msku\u001b[39m\u001b[38;5;124m'\u001b[39m: ok\u001b[38;5;241m.\u001b[39mrstrip(\u001b[38;5;124m'\u001b[39m\u001b[38;5;124m.html\u001b[39m\u001b[38;5;124m'\u001b[39m)\n\u001b[0;32m      3\u001b[0m }\n\u001b[0;32m      4\u001b[0m SELECTORS \u001b[38;5;241m=\u001b[39m {\n\u001b[0;32m      5\u001b[0m     \u001b[38;5;124m'\u001b[39m\u001b[38;5;124mno_data\u001b[39m\u001b[38;5;124m'\u001b[39m: \u001b[38;5;124m'\u001b[39m\u001b[38;5;124m#layoutPage > div.b0 > div.container.b4 > div:nth-child(1) > div > div.e0 > div.d0.c7 > div.w6m > h2\u001b[39m\u001b[38;5;124m'\u001b[39m,\n\u001b[0;32m      6\u001b[0m     \u001b[38;5;124m'\u001b[39m\u001b[38;5;124mstars\u001b[39m\u001b[38;5;124m'\u001b[39m: \u001b[38;5;124m'\u001b[39m\u001b[38;5;124m#layoutPage > div.b0 > div.container.b4 > div:nth-child(2) > div > div > div.mr0.mr2.r2m.r4m > div > div.mr0.r2m.r4m > div:nth-child(1) > div > div > div.aa5-a5.aa5-a1.aa5-a8.s6x > div > div.aa5-a6\u001b[39m\u001b[38;5;124m'\u001b[39m,\n\u001b[1;32m   (...)\u001b[0m\n\u001b[0;32m     10\u001b[0m     \u001b[38;5;124m'\u001b[39m\u001b[38;5;124moldprice\u001b[39m\u001b[38;5;124m'\u001b[39m: \u001b[38;5;124m'\u001b[39m\u001b[38;5;124m#layoutPage > div.b0 > div.container.b4 > div.mr0.m5r > div.mr0.m6r.m3r.rm3 > div.mr0.m6r.m3r.r3m > div > div > div > div.nr3 > div > div > div.m7y.my9.mz0 > div > span.y8m\u001b[39m\u001b[38;5;124m'\u001b[39m\n\u001b[0;32m     11\u001b[0m }\n\u001b[1;32m---> 13\u001b[0m sku_data[\u001b[38;5;124m'\u001b[39m\u001b[38;5;124mstars\u001b[39m\u001b[38;5;124m'\u001b[39m] \u001b[38;5;241m=\u001b[39m \u001b[43msoup\u001b[49m\u001b[38;5;241;43m.\u001b[39;49m\u001b[43mselect_one\u001b[49m\u001b[43m(\u001b[49m\u001b[43mSELECTORS\u001b[49m\u001b[43m[\u001b[49m\u001b[38;5;124;43m'\u001b[39;49m\u001b[38;5;124;43mstars\u001b[39;49m\u001b[38;5;124;43m'\u001b[39;49m\u001b[43m]\u001b[49m\u001b[43m)\u001b[49m\u001b[38;5;241;43m.\u001b[39;49m\u001b[43mattrs\u001b[49m[\u001b[38;5;124m'\u001b[39m\u001b[38;5;124mstyle\u001b[39m\u001b[38;5;124m'\u001b[39m]\n\u001b[0;32m     14\u001b[0m \u001b[38;5;28;01mif\u001b[39;00m no_feed_elem \u001b[38;5;241m:=\u001b[39m soup\u001b[38;5;241m.\u001b[39mselect_one(SELECTORS[\u001b[38;5;124m'\u001b[39m\u001b[38;5;124mno_feed\u001b[39m\u001b[38;5;124m'\u001b[39m]):\n\u001b[0;32m     15\u001b[0m         sku_data[\u001b[38;5;124m'\u001b[39m\u001b[38;5;124mno_feed\u001b[39m\u001b[38;5;124m'\u001b[39m] \u001b[38;5;241m=\u001b[39m no_feed_elem\u001b[38;5;241m.\u001b[39mtext\n",
      "\u001b[1;31mAttributeError\u001b[0m: 'NoneType' object has no attribute 'attrs'"
     ]
    }
   ],
   "source": [
    "sku_data = {\n",
    "    'sku': ok.rstrip('.html')\n",
    "}\n",
    "SELECTORS = {\n",
    "    'no_data': '#layoutPage > div.b0 > div.container.b4 > div:nth-child(1) > div > div.e0 > div.d0.c7 > div.w6m > h2',\n",
    "    'stars': '#layoutPage > div.b0 > div.container.b4 > div:nth-child(2) > div > div > div.mr0.mr2.r2m.r4m > div > div.mr0.r2m.r4m > div:nth-child(1) > div > div > div.aa5-a5.aa5-a1.aa5-a8.s6x > div > div.aa5-a6',\n",
    "    'no_feed': '#layoutPage > div.b0 > div.container.b4 > div:nth-child(2) > div > div > div.mr0.mr2.r2m.r4m > div > div.mr0.r2m.r4m > div:nth-child(1) > div > div > div.x5-a > button > span > span',\n",
    "    'feed': '#layoutPage > div.b0 > div.container.b4 > div:nth-child(2) > div > div > div.mr0.mr2.r2m.r4m > div > div.mr0.r2m.r4m > div:nth-child(1) > div > div > div.x5-a > a > div > div',\n",
    "    'price': '#layoutPage > div.b0 > div.container.b4 > div.mr0.m5r > div.mr0.m6r.m3r.rm3 > div.mr0.m6r.m3r.r3m > div > div > div > div.nr3 > div > div > div.m7y.my9.mz0 > div > span.my8.m8y > span',\n",
    "    'oldprice': '#layoutPage > div.b0 > div.container.b4 > div.mr0.m5r > div.mr0.m6r.m3r.rm3 > div.mr0.m6r.m3r.r3m > div > div > div > div.nr3 > div > div > div.m7y.my9.mz0 > div > span.y8m'\n",
    "}\n",
    "\n",
    "sku_data['stars'] = soup.select_one(SELECTORS['stars']).attrs['style']\n",
    "if no_feed_elem := soup.select_one(SELECTORS['no_feed']):\n",
    "        sku_data['no_feed'] = no_feed_elem.text\n",
    "        sku_data['feed'] = ''\n",
    "else:\n",
    "    sku_data['no_feed'] = ''\n",
    "    sku_data['feed'] = soup.select_one(SELECTORS['feed']).text\n",
    "    \n",
    "sku_data['price'] = soup.select_one(SELECTORS['price']).text\n",
    "sku_data['oldprice'] = soup.select_one(SELECTORS['oldprice']).text\n",
    "\n",
    "\n",
    "sku_data"
   ]
  },
  {
   "cell_type": "code",
   "execution_count": null,
   "id": "2082a09c",
   "metadata": {},
   "outputs": [],
   "source": []
  },
  {
   "cell_type": "code",
   "execution_count": null,
   "id": "eb892b7b",
   "metadata": {},
   "outputs": [],
   "source": []
  },
  {
   "cell_type": "code",
   "execution_count": null,
   "id": "de16b49c",
   "metadata": {},
   "outputs": [],
   "source": []
  },
  {
   "cell_type": "markdown",
   "id": "145aad98",
   "metadata": {},
   "source": [
    "# Parsing RAW HTML"
   ]
  },
  {
   "cell_type": "code",
   "execution_count": 27,
   "id": "a64777ea",
   "metadata": {},
   "outputs": [],
   "source": [
    "def process_sku(sku_: str, soup) -> None:\n",
    "    sku_data = {\n",
    "        'sku': sku_\n",
    "    }\n",
    "    SELECTORS = {\n",
    "        'no_data': '#layoutPage > div.b0 > div.container.b4 > div:nth-child(1) > div > div.e0 > div.d0.c7 > div.w6m > h2',\n",
    "        'stars': '#layoutPage > div.b0 > div.container.b4 > div:nth-child(2) > div > div > div.mr0.mr2.r2m.r4m > div > div.mr0.r2m.r4m > div:nth-child(1) > div > div > div.aa5-a5.aa5-a1.aa5-a8.s6x > div > div.aa5-a6',\n",
    "        'no_feed': '#layoutPage > div.b0 > div.container.b4 > div:nth-child(2) > div > div > div.mr0.mr2.r2m.r4m > div > div.mr0.r2m.r4m > div:nth-child(1) > div > div > div.x5-a > button > span > span',\n",
    "        'feed': '#layoutPage > div.b0 > div.container.b4 > div:nth-child(2) > div > div > div.mr0.mr2.r2m.r4m > div > div.mr0.r2m.r4m > div:nth-child(1) > div > div > div.x5-a > a > div > div',\n",
    "        'price': '#layoutPage > div.b0 > div.container.b4 > div.mr0.m5r > div.mr0.m6r.m3r.rm3 > div.mr0.m6r.m3r.r3m > div > div > div > div.nr3 > div > div > div.m7y.my9.mz0 > div > span.my8.m8y > span',\n",
    "        'oldprice': '#layoutPage > div.b0 > div.container.b4 > div.mr0.m5r > div.mr0.m6r.m3r.rm3 > div.mr0.m6r.m3r.r3m > div > div > div > div.nr3 > div > div > div.m7y.my9.mz0 > div > span.y8m'\n",
    "    }\n",
    "\n",
    "    if soup.select_one(SELECTORS['stars']):\n",
    "        sku_data['stars'] = soup.select_one(SELECTORS['stars']).attrs['style']\n",
    "        if no_feed_elem := soup.select_one(SELECTORS['no_feed']):\n",
    "                sku_data['no_feed'] = no_feed_elem.text\n",
    "                sku_data['feed'] = ''\n",
    "        else:\n",
    "            sku_data['no_feed'] = ''\n",
    "            sku_data['feed'] = soup.select_one(SELECTORS['feed']).text\n",
    "\n",
    "        sku_data['price'] = soup.select_one(SELECTORS['price']).text\n",
    "        sku_data['oldprice'] = soup.select_one(SELECTORS['oldprice']).text\n",
    "        return sku_data\n",
    "    else:\n",
    "        sku_data['no_feed'] = ''\n",
    "        sku_data['stars'] = 'width:%;'\n",
    "        sku_data['feed'] = ''\n",
    "        sku_data['price'] = ''\n",
    "        sku_data['oldprice'] = ''\n",
    "        \n",
    "        return sku_data"
   ]
  },
  {
   "cell_type": "code",
   "execution_count": 30,
   "id": "1a16a63a",
   "metadata": {},
   "outputs": [],
   "source": [
    "os.chdir(r'C:\\Users\\Tural\\OneDrive\\Masaüstü\\ddd\\raw_html')\n",
    "# ok = os.listdir()[31]\n",
    "ready_skus = []\n",
    "\n",
    "for i in os.listdir():\n",
    "    with open(i, 'rb') as f:\n",
    "        html_ = f.read()\n",
    "    soup_ = BeautifulSoup(html_)\n",
    "    sku_ = i.rstrip('.html')\n",
    "    ready_skus.append(process_sku(sku_=sku_, soup=soup_))\n",
    "\n",
    "\n",
    "    \n"
   ]
  },
  {
   "cell_type": "code",
   "execution_count": 31,
   "id": "7c29da89",
   "metadata": {},
   "outputs": [
    {
     "data": {
      "text/html": [
       "<div>\n",
       "<style scoped>\n",
       "    .dataframe tbody tr th:only-of-type {\n",
       "        vertical-align: middle;\n",
       "    }\n",
       "\n",
       "    .dataframe tbody tr th {\n",
       "        vertical-align: top;\n",
       "    }\n",
       "\n",
       "    .dataframe thead th {\n",
       "        text-align: right;\n",
       "    }\n",
       "</style>\n",
       "<table border=\"1\" class=\"dataframe\">\n",
       "  <thead>\n",
       "    <tr style=\"text-align: right;\">\n",
       "      <th></th>\n",
       "      <th>sku</th>\n",
       "      <th>no_feed</th>\n",
       "      <th>stars</th>\n",
       "      <th>feed</th>\n",
       "      <th>price</th>\n",
       "      <th>oldprice</th>\n",
       "      <th>feeds</th>\n",
       "    </tr>\n",
       "  </thead>\n",
       "  <tbody>\n",
       "    <tr>\n",
       "      <th>0</th>\n",
       "      <td>D2501</td>\n",
       "      <td></td>\n",
       "      <td>0.0</td>\n",
       "      <td></td>\n",
       "      <td>0</td>\n",
       "      <td>0</td>\n",
       "      <td>0</td>\n",
       "    </tr>\n",
       "    <tr>\n",
       "      <th>1</th>\n",
       "      <td>D2502</td>\n",
       "      <td></td>\n",
       "      <td>0.0</td>\n",
       "      <td></td>\n",
       "      <td>0</td>\n",
       "      <td>0</td>\n",
       "      <td>0</td>\n",
       "    </tr>\n",
       "    <tr>\n",
       "      <th>2</th>\n",
       "      <td>D2504</td>\n",
       "      <td></td>\n",
       "      <td>0.0</td>\n",
       "      <td></td>\n",
       "      <td>0</td>\n",
       "      <td>0</td>\n",
       "      <td>0</td>\n",
       "    </tr>\n",
       "    <tr>\n",
       "      <th>3</th>\n",
       "      <td>D2505</td>\n",
       "      <td></td>\n",
       "      <td>0.0</td>\n",
       "      <td></td>\n",
       "      <td>0</td>\n",
       "      <td>0</td>\n",
       "      <td>0</td>\n",
       "    </tr>\n",
       "    <tr>\n",
       "      <th>4</th>\n",
       "      <td>D2506</td>\n",
       "      <td></td>\n",
       "      <td>0.0</td>\n",
       "      <td></td>\n",
       "      <td>0</td>\n",
       "      <td>0</td>\n",
       "      <td>0</td>\n",
       "    </tr>\n",
       "    <tr>\n",
       "      <th>...</th>\n",
       "      <td>...</td>\n",
       "      <td>...</td>\n",
       "      <td>...</td>\n",
       "      <td>...</td>\n",
       "      <td>...</td>\n",
       "      <td>...</td>\n",
       "      <td>...</td>\n",
       "    </tr>\n",
       "    <tr>\n",
       "      <th>109</th>\n",
       "      <td>VWB4701</td>\n",
       "      <td></td>\n",
       "      <td>0.0</td>\n",
       "      <td></td>\n",
       "      <td>0</td>\n",
       "      <td>0</td>\n",
       "      <td>0</td>\n",
       "    </tr>\n",
       "    <tr>\n",
       "      <th>110</th>\n",
       "      <td>VWB4702</td>\n",
       "      <td></td>\n",
       "      <td>0.0</td>\n",
       "      <td></td>\n",
       "      <td>0</td>\n",
       "      <td>0</td>\n",
       "      <td>0</td>\n",
       "    </tr>\n",
       "    <tr>\n",
       "      <th>111</th>\n",
       "      <td>VWB4900</td>\n",
       "      <td></td>\n",
       "      <td>0.0</td>\n",
       "      <td></td>\n",
       "      <td>0</td>\n",
       "      <td>0</td>\n",
       "      <td>0</td>\n",
       "    </tr>\n",
       "    <tr>\n",
       "      <th>112</th>\n",
       "      <td>VWB6701</td>\n",
       "      <td></td>\n",
       "      <td>0.0</td>\n",
       "      <td></td>\n",
       "      <td>0</td>\n",
       "      <td>0</td>\n",
       "      <td>0</td>\n",
       "    </tr>\n",
       "    <tr>\n",
       "      <th>113</th>\n",
       "      <td>VWB6702</td>\n",
       "      <td></td>\n",
       "      <td>0.0</td>\n",
       "      <td></td>\n",
       "      <td>0</td>\n",
       "      <td>0</td>\n",
       "      <td>0</td>\n",
       "    </tr>\n",
       "  </tbody>\n",
       "</table>\n",
       "<p>114 rows × 7 columns</p>\n",
       "</div>"
      ],
      "text/plain": [
       "         sku no_feed  stars feed  price  oldprice  feeds\n",
       "0      D2501            0.0           0         0      0\n",
       "1      D2502            0.0           0         0      0\n",
       "2      D2504            0.0           0         0      0\n",
       "3      D2505            0.0           0         0      0\n",
       "4      D2506            0.0           0         0      0\n",
       "..       ...     ...    ...  ...    ...       ...    ...\n",
       "109  VWB4701            0.0           0         0      0\n",
       "110  VWB4702            0.0           0         0      0\n",
       "111  VWB4900            0.0           0         0      0\n",
       "112  VWB6701            0.0           0         0      0\n",
       "113  VWB6702            0.0           0         0      0\n",
       "\n",
       "[114 rows x 7 columns]"
      ]
     },
     "execution_count": 31,
     "metadata": {},
     "output_type": "execute_result"
    }
   ],
   "source": [
    "def check_feeds(tp):\n",
    "    if (tp[0] == '') and (tp[1] == ''):\n",
    "        return 0\n",
    "    elif (tp[0] == ''):\n",
    "        return int(tp[1].split('\\xa0')[0])\n",
    "    else:\n",
    "        return 0\n",
    "\n",
    "out_df = pd.DataFrame(ready_skus).reset_index(drop=True)\n",
    "out_df['stars'] = out_df['stars'].map(\n",
    "                        lambda x: x.split(':')[1].split('%')[0]\n",
    "                    ).map(\n",
    "                        lambda x: round(float(x), 2) if x != '' else 0.0\n",
    "                    ).map(\n",
    "                        lambda x: round((x / 100.0) * 5.0, 1)\n",
    "                    )\n",
    "out_df['feeds'] = out_df[['no_feed', 'feed']].apply(tuple, axis=1).map(check_feeds)\n",
    "out_df['price'] = out_df['price'].map(\n",
    "                lambda x: int(x.replace('\\u2009', '').replace('₽', ''))\n",
    "                if x != '' else 0\n",
    "            )\n",
    "out_df['oldprice'] = out_df['oldprice'].map(\n",
    "                lambda x: int(x.replace('\\u2009', '').replace('₽', ''))\n",
    "                if x != '' else 0\n",
    "            )\n",
    "out_df"
   ]
  },
  {
   "cell_type": "code",
   "execution_count": null,
   "id": "bc3704ad",
   "metadata": {},
   "outputs": [],
   "source": []
  },
  {
   "cell_type": "code",
   "execution_count": 32,
   "id": "0c4b8d0c",
   "metadata": {},
   "outputs": [],
   "source": [
    "out_df.to_excel(r'C:\\Users\\Tural\\OneDrive\\Masaüstü\\ddd\\output\\ozon.xlsx')"
   ]
  }
 ],
 "metadata": {
  "kernelspec": {
   "display_name": "Python 3 (ipykernel)",
   "language": "python",
   "name": "python3"
  },
  "language_info": {
   "codemirror_mode": {
    "name": "ipython",
    "version": 3
   },
   "file_extension": ".py",
   "mimetype": "text/x-python",
   "name": "python",
   "nbconvert_exporter": "python",
   "pygments_lexer": "ipython3",
   "version": "3.10.1"
  }
 },
 "nbformat": 4,
 "nbformat_minor": 5
}
